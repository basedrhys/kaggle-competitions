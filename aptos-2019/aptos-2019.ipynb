{
 "cells": [
  {
   "cell_type": "code",
   "execution_count": 1,
   "metadata": {},
   "outputs": [],
   "source": [
    "%reload_ext autoreload\n",
    "%autoreload 2\n",
    "%matplotlib inline"
   ]
  },
  {
   "cell_type": "code",
   "execution_count": 2,
   "metadata": {},
   "outputs": [],
   "source": [
    "from fastai.vision import *\n",
    "from fastai.metrics import error_rate\n",
    "import wandb\n",
    "import os\n",
    "from wandb.fastai import WandbCallback"
   ]
  },
  {
   "cell_type": "code",
   "execution_count": 3,
   "metadata": {},
   "outputs": [],
   "source": [
    "os.environ['TORCH_HOME'] = '../torch-zoo'"
   ]
  },
  {
   "cell_type": "code",
   "execution_count": 6,
   "metadata": {},
   "outputs": [
    {
     "data": {
      "text/html": [
       "\n",
       "                Logging results to <a href=\"https://wandb.com\" target=\"_blank\">Weights & Biases</a> <a href=\"https://docs.wandb.com/integrations/jupyter.html\" target=\"_blank\">(Documentation)</a>.<br/>\n",
       "                Project page: <a href=\"https://app.wandb.ai/basedrhys/aptos-2019\" target=\"_blank\">https://app.wandb.ai/basedrhys/aptos-2019</a><br/>\n",
       "                Run page: <a href=\"https://app.wandb.ai/basedrhys/aptos-2019/runs/okk7xo61\" target=\"_blank\">https://app.wandb.ai/basedrhys/aptos-2019/runs/okk7xo61</a><br/>\n",
       "            "
      ],
      "text/plain": [
       "<IPython.core.display.HTML object>"
      ]
     },
     "metadata": {},
     "output_type": "display_data"
    },
    {
     "data": {
      "text/plain": [
       "W&B Run: https://app.wandb.ai/basedrhys/aptos-2019/runs/okk7xo61"
      ]
     },
     "execution_count": 6,
     "metadata": {},
     "output_type": "execute_result"
    }
   ],
   "source": [
    "wandb.init(project='aptos-2019', name='FastAI Resnet-152')"
   ]
  },
  {
   "cell_type": "code",
   "execution_count": 5,
   "metadata": {},
   "outputs": [],
   "source": [
    "bs = 16"
   ]
  },
  {
   "cell_type": "code",
   "execution_count": 6,
   "metadata": {},
   "outputs": [],
   "source": [
    "train_df = pd.read_csv('data/train.csv')\n",
    "test_df = pd.read_csv('data/test.csv')\n",
    "\n",
    "aptos_stats = ([0.42, 0.22, 0.075], [0.27, 0.15, 0.081])\n",
    "data = ImageDataBunch.from_df(path='data/train_images/', \n",
    "                              df=train_df, \n",
    "                              suffix = '.png', \n",
    "                              ds_tfms=get_transforms(flip_vert=True), \n",
    "                              size=224, \n",
    "                              bs=bs).normalize(aptos_stats)"
   ]
  },
  {
   "cell_type": "code",
   "execution_count": 7,
   "metadata": {
    "colab": {
     "base_uri": "https://localhost:8080/",
     "height": 441
    },
    "colab_type": "code",
    "executionInfo": {
     "elapsed": 36432,
     "status": "ok",
     "timestamp": 1579379079714,
     "user": {
      "displayName": "Anonymous",
      "photoUrl": "",
      "userId": "03638599306553920068"
     },
     "user_tz": -780
    },
    "id": "TM1EyfjjJ9wP",
    "outputId": "2919de10-5cca-4dca-baf5-4271300d6cf1"
   },
   "outputs": [],
   "source": [
    "# show some sample images\n",
    "data.show_batch(rows=3)"
   ]
  },
  {
   "cell_type": "code",
   "execution_count": 10,
   "metadata": {},
   "outputs": [],
   "source": [
    "learn = cnn_learner(data, models.resnet152, metrics=[error_rate], callback_fns=WandbCallback)\n",
    "learn.path = Path('models')"
   ]
  },
  {
   "cell_type": "code",
   "execution_count": 9,
   "metadata": {},
   "outputs": [
    {
     "data": {
      "text/html": [
       "<table border=\"1\" class=\"dataframe\">\n",
       "  <thead>\n",
       "    <tr style=\"text-align: left;\">\n",
       "      <th>epoch</th>\n",
       "      <th>train_loss</th>\n",
       "      <th>valid_loss</th>\n",
       "      <th>error_rate</th>\n",
       "      <th>time</th>\n",
       "    </tr>\n",
       "  </thead>\n",
       "  <tbody>\n",
       "    <tr>\n",
       "      <td>0</td>\n",
       "      <td>1.275141</td>\n",
       "      <td>0.785593</td>\n",
       "      <td>0.254098</td>\n",
       "      <td>03:07</td>\n",
       "    </tr>\n",
       "    <tr>\n",
       "      <td>1</td>\n",
       "      <td>1.058115</td>\n",
       "      <td>0.807180</td>\n",
       "      <td>0.222678</td>\n",
       "      <td>03:44</td>\n",
       "    </tr>\n",
       "    <tr>\n",
       "      <td>2</td>\n",
       "      <td>0.983604</td>\n",
       "      <td>0.674444</td>\n",
       "      <td>0.206284</td>\n",
       "      <td>03:41</td>\n",
       "    </tr>\n",
       "    <tr>\n",
       "      <td>3</td>\n",
       "      <td>0.930576</td>\n",
       "      <td>0.728099</td>\n",
       "      <td>0.232240</td>\n",
       "      <td>03:33</td>\n",
       "    </tr>\n",
       "    <tr>\n",
       "      <td>4</td>\n",
       "      <td>0.841217</td>\n",
       "      <td>0.594200</td>\n",
       "      <td>0.215847</td>\n",
       "      <td>03:28</td>\n",
       "    </tr>\n",
       "    <tr>\n",
       "      <td>5</td>\n",
       "      <td>0.727693</td>\n",
       "      <td>0.550058</td>\n",
       "      <td>0.198087</td>\n",
       "      <td>03:35</td>\n",
       "    </tr>\n",
       "    <tr>\n",
       "      <td>6</td>\n",
       "      <td>0.664234</td>\n",
       "      <td>0.536621</td>\n",
       "      <td>0.184426</td>\n",
       "      <td>03:34</td>\n",
       "    </tr>\n",
       "    <tr>\n",
       "      <td>7</td>\n",
       "      <td>0.673355</td>\n",
       "      <td>0.494915</td>\n",
       "      <td>0.166667</td>\n",
       "      <td>03:32</td>\n",
       "    </tr>\n",
       "    <tr>\n",
       "      <td>8</td>\n",
       "      <td>0.614000</td>\n",
       "      <td>0.494026</td>\n",
       "      <td>0.166667</td>\n",
       "      <td>03:28</td>\n",
       "    </tr>\n",
       "    <tr>\n",
       "      <td>9</td>\n",
       "      <td>0.643332</td>\n",
       "      <td>0.465655</td>\n",
       "      <td>0.174863</td>\n",
       "      <td>03:34</td>\n",
       "    </tr>\n",
       "    <tr>\n",
       "      <td>10</td>\n",
       "      <td>0.638872</td>\n",
       "      <td>0.456606</td>\n",
       "      <td>0.173497</td>\n",
       "      <td>03:30</td>\n",
       "    </tr>\n",
       "    <tr>\n",
       "      <td>11</td>\n",
       "      <td>0.552056</td>\n",
       "      <td>0.487213</td>\n",
       "      <td>0.184426</td>\n",
       "      <td>03:31</td>\n",
       "    </tr>\n",
       "    <tr>\n",
       "      <td>12</td>\n",
       "      <td>0.573166</td>\n",
       "      <td>0.426232</td>\n",
       "      <td>0.159836</td>\n",
       "      <td>03:48</td>\n",
       "    </tr>\n",
       "    <tr>\n",
       "      <td>13</td>\n",
       "      <td>0.590939</td>\n",
       "      <td>0.410270</td>\n",
       "      <td>0.157104</td>\n",
       "      <td>03:54</td>\n",
       "    </tr>\n",
       "    <tr>\n",
       "      <td>14</td>\n",
       "      <td>0.519179</td>\n",
       "      <td>0.453222</td>\n",
       "      <td>0.154372</td>\n",
       "      <td>03:36</td>\n",
       "    </tr>\n",
       "    <tr>\n",
       "      <td>15</td>\n",
       "      <td>0.510533</td>\n",
       "      <td>0.441666</td>\n",
       "      <td>0.162568</td>\n",
       "      <td>03:28</td>\n",
       "    </tr>\n",
       "    <tr>\n",
       "      <td>16</td>\n",
       "      <td>0.529502</td>\n",
       "      <td>0.410201</td>\n",
       "      <td>0.147541</td>\n",
       "      <td>03:29</td>\n",
       "    </tr>\n",
       "    <tr>\n",
       "      <td>17</td>\n",
       "      <td>0.518515</td>\n",
       "      <td>0.474629</td>\n",
       "      <td>0.173497</td>\n",
       "      <td>03:39</td>\n",
       "    </tr>\n",
       "    <tr>\n",
       "      <td>18</td>\n",
       "      <td>0.495459</td>\n",
       "      <td>0.409529</td>\n",
       "      <td>0.150273</td>\n",
       "      <td>03:26</td>\n",
       "    </tr>\n",
       "    <tr>\n",
       "      <td>19</td>\n",
       "      <td>0.452003</td>\n",
       "      <td>0.403060</td>\n",
       "      <td>0.143443</td>\n",
       "      <td>03:41</td>\n",
       "    </tr>\n",
       "    <tr>\n",
       "      <td>20</td>\n",
       "      <td>0.436649</td>\n",
       "      <td>0.407138</td>\n",
       "      <td>0.147541</td>\n",
       "      <td>03:43</td>\n",
       "    </tr>\n",
       "    <tr>\n",
       "      <td>21</td>\n",
       "      <td>0.426379</td>\n",
       "      <td>0.422170</td>\n",
       "      <td>0.144809</td>\n",
       "      <td>03:43</td>\n",
       "    </tr>\n",
       "    <tr>\n",
       "      <td>22</td>\n",
       "      <td>0.402417</td>\n",
       "      <td>0.420527</td>\n",
       "      <td>0.135246</td>\n",
       "      <td>03:41</td>\n",
       "    </tr>\n",
       "    <tr>\n",
       "      <td>23</td>\n",
       "      <td>0.410436</td>\n",
       "      <td>0.431652</td>\n",
       "      <td>0.147541</td>\n",
       "      <td>03:42</td>\n",
       "    </tr>\n",
       "    <tr>\n",
       "      <td>24</td>\n",
       "      <td>0.385704</td>\n",
       "      <td>0.409377</td>\n",
       "      <td>0.136612</td>\n",
       "      <td>03:45</td>\n",
       "    </tr>\n",
       "    <tr>\n",
       "      <td>25</td>\n",
       "      <td>0.380802</td>\n",
       "      <td>0.469311</td>\n",
       "      <td>0.153005</td>\n",
       "      <td>03:41</td>\n",
       "    </tr>\n",
       "    <tr>\n",
       "      <td>26</td>\n",
       "      <td>0.359054</td>\n",
       "      <td>0.417611</td>\n",
       "      <td>0.133880</td>\n",
       "      <td>03:43</td>\n",
       "    </tr>\n",
       "    <tr>\n",
       "      <td>27</td>\n",
       "      <td>0.386079</td>\n",
       "      <td>0.443566</td>\n",
       "      <td>0.144809</td>\n",
       "      <td>03:45</td>\n",
       "    </tr>\n",
       "    <tr>\n",
       "      <td>28</td>\n",
       "      <td>0.374454</td>\n",
       "      <td>0.423516</td>\n",
       "      <td>0.137978</td>\n",
       "      <td>03:45</td>\n",
       "    </tr>\n",
       "    <tr>\n",
       "      <td>29</td>\n",
       "      <td>0.346864</td>\n",
       "      <td>0.436246</td>\n",
       "      <td>0.142077</td>\n",
       "      <td>03:44</td>\n",
       "    </tr>\n",
       "    <tr>\n",
       "      <td>30</td>\n",
       "      <td>0.336178</td>\n",
       "      <td>0.453278</td>\n",
       "      <td>0.147541</td>\n",
       "      <td>03:44</td>\n",
       "    </tr>\n",
       "    <tr>\n",
       "      <td>31</td>\n",
       "      <td>0.340219</td>\n",
       "      <td>0.437082</td>\n",
       "      <td>0.147541</td>\n",
       "      <td>03:44</td>\n",
       "    </tr>\n",
       "    <tr>\n",
       "      <td>32</td>\n",
       "      <td>0.308976</td>\n",
       "      <td>0.427881</td>\n",
       "      <td>0.148907</td>\n",
       "      <td>03:43</td>\n",
       "    </tr>\n",
       "    <tr>\n",
       "      <td>33</td>\n",
       "      <td>0.335771</td>\n",
       "      <td>0.436202</td>\n",
       "      <td>0.148907</td>\n",
       "      <td>03:45</td>\n",
       "    </tr>\n",
       "    <tr>\n",
       "      <td>34</td>\n",
       "      <td>0.324735</td>\n",
       "      <td>0.436903</td>\n",
       "      <td>0.147541</td>\n",
       "      <td>03:44</td>\n",
       "    </tr>\n",
       "  </tbody>\n",
       "</table>"
      ],
      "text/plain": [
       "<IPython.core.display.HTML object>"
      ]
     },
     "metadata": {},
     "output_type": "display_data"
    },
    {
     "name": "stdout",
     "output_type": "stream",
     "text": [
      "Better model found at epoch 0 with valid_loss value: 0.7855931520462036.\n",
      "Better model found at epoch 2 with valid_loss value: 0.6744440793991089.\n",
      "Better model found at epoch 4 with valid_loss value: 0.5941997766494751.\n",
      "Better model found at epoch 5 with valid_loss value: 0.5500581860542297.\n",
      "Better model found at epoch 6 with valid_loss value: 0.5366210341453552.\n",
      "Better model found at epoch 7 with valid_loss value: 0.49491456151008606.\n",
      "Better model found at epoch 8 with valid_loss value: 0.49402615427970886.\n",
      "Better model found at epoch 9 with valid_loss value: 0.4656551778316498.\n",
      "Better model found at epoch 10 with valid_loss value: 0.45660609006881714.\n",
      "Better model found at epoch 12 with valid_loss value: 0.42623233795166016.\n",
      "Better model found at epoch 13 with valid_loss value: 0.4102703928947449.\n",
      "Better model found at epoch 16 with valid_loss value: 0.41020143032073975.\n",
      "Better model found at epoch 18 with valid_loss value: 0.40952858328819275.\n",
      "Better model found at epoch 19 with valid_loss value: 0.40306025743484497.\n",
      "Loaded best saved model from E:\\Rhys\\Documents\\Github\\kaggle-competitions\\aptos-2019\\wandb\\run-20200216_092454-8sd1lp3i\\bestmodel.pth\n"
     ]
    }
   ],
   "source": [
    "learn.fit_one_cycle(35)"
   ]
  },
  {
   "cell_type": "code",
   "execution_count": null,
   "metadata": {},
   "outputs": [],
   "source": [
    "learn.save('rn152_35')"
   ]
  },
  {
   "cell_type": "markdown",
   "metadata": {},
   "source": [
    "# Running Model On Test Data"
   ]
  },
  {
   "cell_type": "code",
   "execution_count": null,
   "metadata": {},
   "outputs": [],
   "source": [
    "tta_params = {'beta':0.12, 'scale':1.0}\n",
    "sample_df = pd.read_csv('data/sample_submission.csv')\n",
    "sample_df.head()"
   ]
  },
  {
   "cell_type": "code",
   "execution_count": null,
   "metadata": {},
   "outputs": [],
   "source": [
    "learn.data.add_test(ImageList.from_df(\n",
    "    sample_df,\n",
    "    Path('data/test')\n",
    "))"
   ]
  },
  {
   "cell_type": "code",
   "execution_count": null,
   "metadata": {},
   "outputs": [],
   "source": [
    "preds, y = learn.TTA(ds_type=DatasetType.Test, **tta_params)"
   ]
  },
  {
   "cell_type": "code",
   "execution_count": null,
   "metadata": {},
   "outputs": [],
   "source": [
    "os.makedirs('submissions', exist_ok=True)"
   ]
  },
  {
   "cell_type": "code",
   "execution_count": null,
   "metadata": {},
   "outputs": [],
   "source": [
    "classes = ['Black-grass',\n",
    "'Charlock',\n",
    "'Cleavers',\n",
    "'Common Chickweed',\n",
    "'Common wheat',\n",
    "'Fat Hen',\n",
    "'Loose Silky-bent',\n",
    "'Maize',\n",
    "'Scentless Mayweed',\n",
    "'Shepherds Purse',\n",
    "'Small-flowered Cranesbill',\n",
    "'Sugar beet']"
   ]
  },
  {
   "cell_type": "code",
   "execution_count": null,
   "metadata": {},
   "outputs": [],
   "source": [
    "classes = [classes[i] for i in preds.argmax(1)]"
   ]
  },
  {
   "cell_type": "code",
   "execution_count": null,
   "metadata": {},
   "outputs": [],
   "source": [
    "sample_df.species = classes"
   ]
  },
  {
   "cell_type": "code",
   "execution_count": null,
   "metadata": {},
   "outputs": [],
   "source": [
    "sample_df.head()"
   ]
  },
  {
   "cell_type": "code",
   "execution_count": null,
   "metadata": {},
   "outputs": [],
   "source": [
    "sample_df.to_csv('submissions/initial_submission.csv', index=False)\n",
    "_ = sample_df.hist()"
   ]
  },
  {
   "cell_type": "code",
   "execution_count": null,
   "metadata": {},
   "outputs": [],
   "source": []
  }
 ],
 "metadata": {
  "kernelspec": {
   "display_name": "Python 3",
   "language": "python",
   "name": "python3"
  },
  "language_info": {
   "codemirror_mode": {
    "name": "ipython",
    "version": 3
   },
   "file_extension": ".py",
   "mimetype": "text/x-python",
   "name": "python",
   "nbconvert_exporter": "python",
   "pygments_lexer": "ipython3",
   "version": "3.7.6"
  }
 },
 "nbformat": 4,
 "nbformat_minor": 4
}
